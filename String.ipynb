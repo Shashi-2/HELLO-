{
 "cells": [
  {
   "cell_type": "code",
   "execution_count": 3,
   "id": "993ab22d",
   "metadata": {},
   "outputs": [
    {
     "name": "stdout",
     "output_type": "stream",
     "text": [
      "SHASHI\n",
      "<class 'str'>\n"
     ]
    }
   ],
   "source": [
    "st='SHASHI'\n",
    "print(st)\n",
    "print(type(st))"
   ]
  },
  {
   "cell_type": "code",
   "execution_count": 4,
   "id": "7ab218bd",
   "metadata": {},
   "outputs": [
    {
     "name": "stdout",
     "output_type": "stream",
     "text": [
      "SHEKHAR\n"
     ]
    }
   ],
   "source": [
    "s=\"SHEKHAR\"\n",
    "print(s)"
   ]
  },
  {
   "cell_type": "code",
   "execution_count": 8,
   "id": "1db38e4f",
   "metadata": {},
   "outputs": [
    {
     "name": "stdout",
     "output_type": "stream",
     "text": [
      "RAK\n",
      "MARU\n"
     ]
    }
   ],
   "source": [
    "  #012345678 = index\n",
    "r=\"KARAKURAM\"\n",
    "print(r[2:5])   ####  STRING SLICING\n",
    "print(r[-1:-5:-1])"
   ]
  },
  {
   "cell_type": "code",
   "execution_count": 11,
   "id": "dc8dd94c",
   "metadata": {},
   "outputs": [
    {
     "name": "stdout",
     "output_type": "stream",
     "text": [
      "True\n",
      "False\n"
     ]
    }
   ],
   "source": [
    "#### TYPE CASTING\n",
    "t=\"E\"                      #### ASCII=AMERICAN STANDARD CODE FOR INFORMATION INTERCHANGE[DEFINED THE CHAR VALUES]\n",
    "print(bool(t))               ## CONVERT TO BINARY FORM THEN STORE IN SYSTEM      A=65,Z=90,a=97,z=122 etc...\n",
    "print(bool(0))               ## NO CHARGE"
   ]
  },
  {
   "cell_type": "code",
   "execution_count": 13,
   "id": "819484d0",
   "metadata": {},
   "outputs": [
    {
     "name": "stdout",
     "output_type": "stream",
     "text": [
      "\n",
      "<class 'str'>\n",
      "False\n"
     ]
    }
   ],
   "source": [
    "d=\"\"      ##empty str    ===       NO CHARGES \n",
    "print(d)\n",
    "print(type(d))\n",
    "print(bool(d))"
   ]
  },
  {
   "cell_type": "code",
   "execution_count": 14,
   "id": "ab9cb7a9",
   "metadata": {},
   "outputs": [],
   "source": [
    "#### STRING FUNCTION"
   ]
  },
  {
   "cell_type": "code",
   "execution_count": 15,
   "id": "60423b3b",
   "metadata": {},
   "outputs": [
    {
     "name": "stdout",
     "output_type": "stream",
     "text": [
      "5\n"
     ]
    }
   ],
   "source": [
    "c=\"canal\"\n",
    "print(len(c))"
   ]
  },
  {
   "cell_type": "code",
   "execution_count": 16,
   "id": "73734916",
   "metadata": {},
   "outputs": [
    {
     "name": "stdout",
     "output_type": "stream",
     "text": [
      "n\n"
     ]
    }
   ],
   "source": [
    "print(max(c))  ##using ASCII code"
   ]
  },
  {
   "cell_type": "code",
   "execution_count": 17,
   "id": "9452d557",
   "metadata": {},
   "outputs": [
    {
     "name": "stdout",
     "output_type": "stream",
     "text": [
      "a\n"
     ]
    }
   ],
   "source": [
    "print(min(c))"
   ]
  },
  {
   "cell_type": "code",
   "execution_count": 18,
   "id": "de9cbbb3",
   "metadata": {},
   "outputs": [
    {
     "ename": "TypeError",
     "evalue": "unsupported operand type(s) for +: 'int' and 'str'",
     "output_type": "error",
     "traceback": [
      "\u001b[1;31m---------------------------------------------------------------------------\u001b[0m",
      "\u001b[1;31mTypeError\u001b[0m                                 Traceback (most recent call last)",
      "\u001b[1;32m~\\AppData\\Local\\Temp/ipykernel_6564/2127823165.py\u001b[0m in \u001b[0;36m<module>\u001b[1;34m\u001b[0m\n\u001b[1;32m----> 1\u001b[1;33m \u001b[0mprint\u001b[0m\u001b[1;33m(\u001b[0m\u001b[0msum\u001b[0m\u001b[1;33m(\u001b[0m\u001b[0mc\u001b[0m\u001b[1;33m)\u001b[0m\u001b[1;33m)\u001b[0m\u001b[1;33m\u001b[0m\u001b[1;33m\u001b[0m\u001b[0m\n\u001b[0m",
      "\u001b[1;31mTypeError\u001b[0m: unsupported operand type(s) for +: 'int' and 'str'"
     ]
    }
   ],
   "source": [
    "print(sum(c))    ## not possible"
   ]
  },
  {
   "cell_type": "code",
   "execution_count": 35,
   "id": "1717b28c",
   "metadata": {},
   "outputs": [],
   "source": [
    "# STRING METHOD       only for string"
   ]
  },
  {
   "cell_type": "code",
   "execution_count": 28,
   "id": "67df5075",
   "metadata": {},
   "outputs": [
    {
     "name": "stdout",
     "output_type": "stream",
     "text": [
      "5{6{ROX\n"
     ]
    }
   ],
   "source": [
    "s=\"{\"             ####JOIN\n",
    "print(s.join([\"5\",\"6\",\"ROX\"]))"
   ]
  },
  {
   "cell_type": "code",
   "execution_count": 30,
   "id": "07b7df1e",
   "metadata": {},
   "outputs": [
    {
     "name": "stdout",
     "output_type": "stream",
     "text": [
      "YOO! brother\n"
     ]
    }
   ],
   "source": [
    "v=\"hello brother\"        ####REPLACE\n",
    "print(v.replace(\"hello\",\"YOO!\"))"
   ]
  },
  {
   "cell_type": "code",
   "execution_count": 32,
   "id": "964896ce",
   "metadata": {},
   "outputs": [
    {
     "name": "stdout",
     "output_type": "stream",
     "text": [
      "TALL\n"
     ]
    }
   ],
   "source": [
    "t=\"tall\"                ####UPPER CASE\n",
    "print(t.upper())"
   ]
  },
  {
   "cell_type": "code",
   "execution_count": 34,
   "id": "1e3d1b0b",
   "metadata": {},
   "outputs": [
    {
     "name": "stdout",
     "output_type": "stream",
     "text": [
      "small\n"
     ]
    }
   ],
   "source": [
    "u=\"SMALL\"\n",
    "print(u.lower())"
   ]
  },
  {
   "cell_type": "code",
   "execution_count": 36,
   "id": "f9ce7118",
   "metadata": {},
   "outputs": [
    {
     "name": "stdout",
     "output_type": "stream",
     "text": [
      "['5', '6', '8', '9', '7']\n"
     ]
    }
   ],
   "source": [
    "l=\"5-6-8-9-7\"        ####SPLIT\n",
    "y=l.split(\"-\")\n",
    "print(y)"
   ]
  },
  {
   "cell_type": "code",
   "execution_count": 105,
   "id": "bd1bf127",
   "metadata": {},
   "outputs": [
    {
     "name": "stdout",
     "output_type": "stream",
     "text": [
      "['1', '2', '3', '4', '5']\n"
     ]
    }
   ],
   "source": [
    "  #012345678\n",
    "o=\"1+2*3/4-5\"\n",
    "l=o[0::2]\n",
    "p=l.split(\" \")\n",
    "print(list(l))"
   ]
  },
  {
   "cell_type": "code",
   "execution_count": 58,
   "id": "7854b102",
   "metadata": {},
   "outputs": [],
   "source": [
    "#QUESTION\n",
    "#**WAP to calculate lenth of string without using built-in function.**"
   ]
  },
  {
   "cell_type": "code",
   "execution_count": 27,
   "id": "77c5c2fe",
   "metadata": {},
   "outputs": [
    {
     "name": "stdout",
     "output_type": "stream",
     "text": [
      "lenth is :-  3\n"
     ]
    }
   ],
   "source": [
    "a=\"rox\"\n",
    "i=0\n",
    "while a[i:]:\n",
    "    i+=1\n",
    "print(\"lenth is :- \",i)"
   ]
  },
  {
   "cell_type": "code",
   "execution_count": 30,
   "id": "8d8115bd",
   "metadata": {},
   "outputs": [
    {
     "name": "stdout",
     "output_type": "stream",
     "text": [
      " ENTER A NAMEINDIAN ARMY\n",
      "lenth is :-  11\n"
     ]
    }
   ],
   "source": [
    "a=str(input(\" ENTER A NAME\"))\n",
    "i=0\n",
    "while a[i:]:\n",
    "    i+=1\n",
    "print(\"lenth is :- \",i)"
   ]
  },
  {
   "cell_type": "code",
   "execution_count": 31,
   "id": "4a77184f",
   "metadata": {},
   "outputs": [],
   "source": [
    "#**WAP to get a string from user and print a string made up of the\n",
    "#first two and last characters of the input string .If the string is less than 2, it returns Empty String."
   ]
  },
  {
   "cell_type": "code",
   "execution_count": 1,
   "id": "c585451f",
   "metadata": {},
   "outputs": [
    {
     "name": "stdout",
     "output_type": "stream",
     "text": [
      "ENTER A STRING lta\n",
      "lt ta\n"
     ]
    }
   ],
   "source": [
    "x=str(input(\"ENTER A STRING \"))\n",
    "i=0\n",
    "while x[i:]:  \n",
    "    i+=1\n",
    "if i>2:\n",
    "    print(x[0:2],x[-2:])\n",
    "else:\n",
    "    print(\"EMPTY STRING\")"
   ]
  },
  {
   "cell_type": "code",
   "execution_count": 50,
   "id": "553d99ab",
   "metadata": {},
   "outputs": [],
   "source": [
    "#**WAP to get a string from user where all occerences of ite first character has been changed to @**"
   ]
  },
  {
   "cell_type": "code",
   "execution_count": 12,
   "id": "8cb8c719",
   "metadata": {},
   "outputs": [
    {
     "name": "stdout",
     "output_type": "stream",
     "text": [
      "resta@t\n"
     ]
    }
   ],
   "source": [
    "r=\"restart\"\n",
    "i=0\n",
    "x=r[0]\n",
    "s=r.replace(\"r\",\"@\")\n",
    "print(x[:]+s[1:])"
   ]
  }
 ],
 "metadata": {
  "kernelspec": {
   "display_name": "Python 3 (ipykernel)",
   "language": "python",
   "name": "python3"
  },
  "language_info": {
   "codemirror_mode": {
    "name": "ipython",
    "version": 3
   },
   "file_extension": ".py",
   "mimetype": "text/x-python",
   "name": "python",
   "nbconvert_exporter": "python",
   "pygments_lexer": "ipython3",
   "version": "3.9.0"
  }
 },
 "nbformat": 4,
 "nbformat_minor": 5
}
