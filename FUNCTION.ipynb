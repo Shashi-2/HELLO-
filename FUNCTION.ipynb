{
 "cells": [
  {
   "cell_type": "code",
   "execution_count": 1,
   "id": "c2b369a0",
   "metadata": {},
   "outputs": [],
   "source": [
    "def rox():             #to define function use def with ()\n",
    "    print(\"HELLO\")"
   ]
  },
  {
   "cell_type": "code",
   "execution_count": 3,
   "id": "e08e1d6f",
   "metadata": {},
   "outputs": [
    {
     "name": "stdout",
     "output_type": "stream",
     "text": [
      "HELLO\n"
     ]
    }
   ],
   "source": [
    "rox()    #CALLING"
   ]
  },
  {
   "cell_type": "code",
   "execution_count": 5,
   "id": "db4ac9f4",
   "metadata": {},
   "outputs": [
    {
     "ename": "NameError",
     "evalue": "name 'fast' is not defined",
     "output_type": "error",
     "traceback": [
      "\u001b[1;31m---------------------------------------------------------------------------\u001b[0m",
      "\u001b[1;31mNameError\u001b[0m                                 Traceback (most recent call last)",
      "\u001b[1;32m~\\AppData\\Local\\Temp/ipykernel_12580/3490468769.py\u001b[0m in \u001b[0;36m<module>\u001b[1;34m\u001b[0m\n\u001b[1;32m----> 1\u001b[1;33m \u001b[0mfast\u001b[0m\u001b[1;33m(\u001b[0m\u001b[1;33m)\u001b[0m                 \u001b[1;31m#INTERPERTER line by line run(TOP DOWN APPROCH)\u001b[0m\u001b[1;33m\u001b[0m\u001b[1;33m\u001b[0m\u001b[0m\n\u001b[0m\u001b[0;32m      2\u001b[0m \u001b[1;32mdef\u001b[0m \u001b[0mfast\u001b[0m\u001b[1;33m(\u001b[0m\u001b[1;33m)\u001b[0m\u001b[1;33m:\u001b[0m\u001b[1;33m\u001b[0m\u001b[1;33m\u001b[0m\u001b[0m\n\u001b[0;32m      3\u001b[0m     \u001b[0mprint\u001b[0m\u001b[1;33m(\u001b[0m\u001b[1;34m\"qwert\"\u001b[0m\u001b[1;33m)\u001b[0m\u001b[1;33m\u001b[0m\u001b[1;33m\u001b[0m\u001b[0m\n",
      "\u001b[1;31mNameError\u001b[0m: name 'fast' is not defined"
     ]
    }
   ],
   "source": [
    "fast()                 #INTERPERTER line by line run(TOP DOWN APPROCH)\n",
    "def fast():\n",
    "    print(\"qwert\")"
   ]
  },
  {
   "cell_type": "markdown",
   "id": "3ed3db35",
   "metadata": {},
   "source": [
    "# FUNCTION AS AN ARGUNMENT"
   ]
  },
  {
   "cell_type": "code",
   "execution_count": 7,
   "id": "4e419877",
   "metadata": {},
   "outputs": [
    {
     "name": "stdout",
     "output_type": "stream",
     "text": [
      "20\n"
     ]
    }
   ],
   "source": [
    "def run(a):\n",
    "    print(a)\n",
    "run(20)"
   ]
  },
  {
   "cell_type": "code",
   "execution_count": 10,
   "id": "e4e65ba9",
   "metadata": {},
   "outputs": [
    {
     "name": "stdout",
     "output_type": "stream",
     "text": [
      "RAM\n"
     ]
    }
   ],
   "source": [
    "run(\"RAM\")     #int,float,str call give"
   ]
  },
  {
   "cell_type": "code",
   "execution_count": 14,
   "id": "da2d0ee1",
   "metadata": {},
   "outputs": [
    {
     "name": "stdout",
     "output_type": "stream",
     "text": [
      "18\n",
      "10DM\n",
      "TIT03267\n"
     ]
    }
   ],
   "source": [
    "run(18)\n",
    "print(10,end=\"\")\n",
    "run(\"DM\")\n",
    "print(\"TIT\",end=\"\")\n",
    "run(\"03267\")"
   ]
  },
  {
   "cell_type": "raw",
   "id": "5d65d944",
   "metadata": {},
   "source": [
    "MULTIPLE ARGUMENT"
   ]
  },
  {
   "cell_type": "code",
   "execution_count": 17,
   "id": "723e9398",
   "metadata": {},
   "outputs": [
    {
     "name": "stdout",
     "output_type": "stream",
     "text": [
      "30\n"
     ]
    }
   ],
   "source": [
    "def mul(a,b):\n",
    "    print(a*b)\n",
    "mul(10,3)"
   ]
  },
  {
   "cell_type": "code",
   "execution_count": 19,
   "id": "63aa9640",
   "metadata": {},
   "outputs": [
    {
     "name": "stdout",
     "output_type": "stream",
     "text": [
      "13\n"
     ]
    },
    {
     "ename": "NameError",
     "evalue": "name 'c' is not defined",
     "output_type": "error",
     "traceback": [
      "\u001b[1;31m---------------------------------------------------------------------------\u001b[0m",
      "\u001b[1;31mNameError\u001b[0m                                 Traceback (most recent call last)",
      "\u001b[1;32m~\\AppData\\Local\\Temp/ipykernel_12580/483229198.py\u001b[0m in \u001b[0;36m<module>\u001b[1;34m\u001b[0m\n\u001b[0;32m      3\u001b[0m     \u001b[0mprint\u001b[0m\u001b[1;33m(\u001b[0m\u001b[0mc\u001b[0m\u001b[1;33m)\u001b[0m\u001b[1;33m\u001b[0m\u001b[1;33m\u001b[0m\u001b[0m\n\u001b[0;32m      4\u001b[0m \u001b[0madd_to\u001b[0m\u001b[1;33m(\u001b[0m\u001b[1;36m12\u001b[0m\u001b[1;33m)\u001b[0m\u001b[1;33m\u001b[0m\u001b[1;33m\u001b[0m\u001b[0m\n\u001b[1;32m----> 5\u001b[1;33m \u001b[0mprint\u001b[0m\u001b[1;33m(\u001b[0m\u001b[0mc\u001b[0m\u001b[1;33m)\u001b[0m\u001b[1;33m\u001b[0m\u001b[1;33m\u001b[0m\u001b[0m\n\u001b[0m\u001b[0;32m      6\u001b[0m \u001b[1;33m\u001b[0m\u001b[0m\n",
      "\u001b[1;31mNameError\u001b[0m: name 'c' is not defined"
     ]
    }
   ],
   "source": [
    "def add_to(c):        ##c is local variable\n",
    "    c+=1\n",
    "    print(c)\n",
    "    \n",
    "add_to(12)\n",
    "print(c)"
   ]
  },
  {
   "cell_type": "code",
   "execution_count": 20,
   "id": "5ade7d46",
   "metadata": {},
   "outputs": [
    {
     "name": "stdout",
     "output_type": "stream",
     "text": [
      "56\n",
      "4\n"
     ]
    }
   ],
   "source": [
    "t=4       ## GLOBLE VARIABLE\n",
    "add_to(55)\n",
    "print(t)"
   ]
  },
  {
   "cell_type": "raw",
   "id": "ce9219cc",
   "metadata": {},
   "source": [
    "RETURN STATEMENT"
   ]
  },
  {
   "cell_type": "code",
   "execution_count": 22,
   "id": "cdb70b12",
   "metadata": {},
   "outputs": [
    {
     "name": "stdout",
     "output_type": "stream",
     "text": [
      "10\n"
     ]
    }
   ],
   "source": [
    "def gret(a,b):\n",
    "    if a>=b:\n",
    "        return a\n",
    "    else:\n",
    "        return b\n",
    "\n",
    "print(gret(5,10))"
   ]
  },
  {
   "cell_type": "code",
   "execution_count": 24,
   "id": "0d140758",
   "metadata": {},
   "outputs": [
    {
     "name": "stdout",
     "output_type": "stream",
     "text": [
      "17\n"
     ]
    }
   ],
   "source": [
    "def total(d,e):\n",
    "    w=d+e\n",
    "    return w        #end execution\n",
    "    print(\"END\")\n",
    "print(total(8,9))\n"
   ]
  },
  {
   "cell_type": "code",
   "execution_count": 25,
   "id": "5ced2260",
   "metadata": {},
   "outputs": [
    {
     "name": "stdout",
     "output_type": "stream",
     "text": [
      "1\n",
      "2\n"
     ]
    }
   ],
   "source": [
    "def lot():\n",
    "    print(1)\n",
    "    print(2)\n",
    "    return        #if nothing so NONE obj\n",
    "    print(5)\n",
    "lot()"
   ]
  },
  {
   "cell_type": "code",
   "execution_count": 26,
   "id": "f0625bb1",
   "metadata": {},
   "outputs": [
    {
     "name": "stdout",
     "output_type": "stream",
     "text": [
      "1\n",
      "2\n",
      "None\n"
     ]
    }
   ],
   "source": [
    "print(lot())       "
   ]
  },
  {
   "cell_type": "raw",
   "id": "91e6e3b8",
   "metadata": {},
   "source": [
    "DEFAULT ARGUMENT"
   ]
  },
  {
   "cell_type": "code",
   "execution_count": 28,
   "id": "e4b0fa6d",
   "metadata": {},
   "outputs": [
    {
     "name": "stdout",
     "output_type": "stream",
     "text": [
      "namastenamaste\n"
     ]
    }
   ],
   "source": [
    "def fan(mes,ts=2):     #ts is default values\n",
    "    print(mes*ts)      #only (*) can use in string \n",
    "fan(\"namaste\")"
   ]
  },
  {
   "cell_type": "code",
   "execution_count": 29,
   "id": "5f9150b2",
   "metadata": {},
   "outputs": [
    {
     "name": "stdout",
     "output_type": "stream",
     "text": [
      "namastenamastenamaste\n"
     ]
    }
   ],
   "source": [
    "fan(\"namaste\",3)"
   ]
  },
  {
   "cell_type": "code",
   "execution_count": 30,
   "id": "e12d69b1",
   "metadata": {},
   "outputs": [
    {
     "name": "stdout",
     "output_type": "stream",
     "text": [
      "notnotnotnotnotnotnotnot\n"
     ]
    }
   ],
   "source": [
    "fan(\"not\",ts=8)"
   ]
  },
  {
   "cell_type": "code",
   "execution_count": 31,
   "id": "8dfe4794",
   "metadata": {},
   "outputs": [
    {
     "name": "stdout",
     "output_type": "stream",
     "text": [
      "232323232323232323\n"
     ]
    }
   ],
   "source": [
    "fan(ts=9,mes=\"23\")"
   ]
  },
  {
   "cell_type": "raw",
   "id": "7cb31362",
   "metadata": {},
   "source": [
    "REFERENCE FUNCTION"
   ]
  },
  {
   "cell_type": "code",
   "execution_count": 33,
   "id": "3d64941e",
   "metadata": {},
   "outputs": [
    {
     "name": "stdout",
     "output_type": "stream",
     "text": [
      "3\n"
     ]
    }
   ],
   "source": [
    "def mult(x,y):\n",
    "    return x-y\n",
    "\n",
    "a=5\n",
    "b=2\n",
    "opr = mult       #reference function == opr\n",
    "print(opr(a,b))"
   ]
  },
  {
   "cell_type": "code",
   "execution_count": 36,
   "id": "d139265b",
   "metadata": {},
   "outputs": [
    {
     "name": "stdout",
     "output_type": "stream",
     "text": [
      "Rat!\n"
     ]
    }
   ],
   "source": [
    "def ice(p):\n",
    "    return p + \"!\"\n",
    "\n",
    "b=ice\n",
    "\n",
    "c=b(\"Rat\")\n",
    "\n",
    "print(c)"
   ]
  },
  {
   "cell_type": "raw",
   "id": "886e2e3b",
   "metadata": {},
   "source": [
    "FUNCTION AS AN ARGUMENT"
   ]
  },
  {
   "cell_type": "code",
   "execution_count": 37,
   "id": "f6d77420",
   "metadata": {},
   "outputs": [
    {
     "name": "stdout",
     "output_type": "stream",
     "text": [
      "10\n"
     ]
    }
   ],
   "source": [
    "def sumn(x,y):\n",
    "    return x+y\n",
    "\n",
    "def did(blue,x,y):\n",
    "    return blue(blue(x,y),blue(x,y))\n",
    "#          sumn(sumn(2,3),sumn(2,3))     \n",
    "#          sumn(2+3,2+3)\n",
    "#          5+5\n",
    "\n",
    "a=2\n",
    "b=3\n",
    "print(did(sumn,a,b))"
   ]
  },
  {
   "cell_type": "code",
   "execution_count": 38,
   "id": "3b04fb52",
   "metadata": {},
   "outputs": [
    {
     "name": "stdout",
     "output_type": "stream",
     "text": [
      "9\n"
     ]
    }
   ],
   "source": [
    "def square(a):\n",
    "    return a*a\n",
    "\n",
    "def test(green,a):\n",
    "    print(green(a))\n",
    "\n",
    "test(square,3)\n"
   ]
  },
  {
   "cell_type": "code",
   "execution_count": 40,
   "id": "3739968f",
   "metadata": {},
   "outputs": [
    {
     "name": "stdout",
     "output_type": "stream",
     "text": [
      "16\n"
     ]
    }
   ],
   "source": [
    "def g(red,a):\n",
    "    print(red(a))\n",
    "    \n",
    "g(sum,[5,9,2])"
   ]
  },
  {
   "cell_type": "code",
   "execution_count": 41,
   "id": "40e27a29",
   "metadata": {},
   "outputs": [
    {
     "name": "stdout",
     "output_type": "stream",
     "text": [
      "[1]\n"
     ]
    }
   ],
   "source": [
    "def lol(s):\n",
    "    s[0]=1\n",
    "\n",
    "q=[0]\n",
    "lol(q)\n",
    "print(q)"
   ]
  },
  {
   "cell_type": "code",
   "execution_count": 51,
   "id": "17b3202a",
   "metadata": {},
   "outputs": [
    {
     "name": "stdout",
     "output_type": "stream",
     "text": [
      "0\n"
     ]
    }
   ],
   "source": [
    "def ln(x):\n",
    "    for i in range(x):\n",
    "        print(i)\n",
    "        return\n",
    "ln(5)"
   ]
  },
  {
   "cell_type": "markdown",
   "id": "5f00885e",
   "metadata": {},
   "source": [
    "##### Doc String    two ways (\"\"\"_\"\"\") and ('''_''') \n",
    "IF you create a new function and you sent to the other developer and he/she needs to \n",
    "understand the function work so by this we can easy the to make them understand."
   ]
  },
  {
   "cell_type": "code",
   "execution_count": 52,
   "id": "d30126a9",
   "metadata": {},
   "outputs": [],
   "source": [
    "def largest():\n",
    "    '''THIS WILL PRINT \"HELLO BOY\" '''\n",
    "    print(\"HELLO BOY\")"
   ]
  },
  {
   "cell_type": "code",
   "execution_count": 53,
   "id": "2c8a358d",
   "metadata": {},
   "outputs": [
    {
     "name": "stdout",
     "output_type": "stream",
     "text": [
      "HELLO BOY\n"
     ]
    }
   ],
   "source": [
    "largest()"
   ]
  },
  {
   "cell_type": "code",
   "execution_count": 54,
   "id": "5d5c5a97",
   "metadata": {},
   "outputs": [
    {
     "name": "stdout",
     "output_type": "stream",
     "text": [
      "Help on function largest in module __main__:\n",
      "\n",
      "largest()\n",
      "    THIS WILL PRINT \"HELLO BOY\"\n",
      "\n"
     ]
    }
   ],
   "source": [
    "help(largest)       #### one way for description"
   ]
  },
  {
   "cell_type": "code",
   "execution_count": 56,
   "id": "63216595",
   "metadata": {},
   "outputs": [
    {
     "name": "stdout",
     "output_type": "stream",
     "text": [
      "THIS WILL PRINT \"HELLO BOY\" \n"
     ]
    }
   ],
   "source": [
    "print(largest.__doc__)    #### second way for description\n",
    "\n",
    "## (__1__) == DUNDER"
   ]
  },
  {
   "cell_type": "markdown",
   "id": "ba86e269",
   "metadata": {},
   "source": [
    "###### LAMBDA FUNCTION\n",
    "anonymous function === IMP"
   ]
  },
  {
   "cell_type": "code",
   "execution_count": 58,
   "id": "9388fa57",
   "metadata": {},
   "outputs": [
    {
     "name": "stdout",
     "output_type": "stream",
     "text": [
      "125\n"
     ]
    }
   ],
   "source": [
    "def cube(a):\n",
    "    return a*a*a\n",
    "\n",
    "f=lambda t : t*t*t\n",
    "print(f(5))"
   ]
  },
  {
   "cell_type": "code",
   "execution_count": 59,
   "id": "bd1da011",
   "metadata": {},
   "outputs": [
    {
     "name": "stdout",
     "output_type": "stream",
     "text": [
      "27\n"
     ]
    }
   ],
   "source": [
    "print(cube(3))"
   ]
  },
  {
   "cell_type": "markdown",
   "id": "82522330",
   "metadata": {},
   "source": [
    "###### MAP FUNCTION"
   ]
  },
  {
   "cell_type": "code",
   "execution_count": 62,
   "id": "9de04ed7",
   "metadata": {},
   "outputs": [
    {
     "name": "stdout",
     "output_type": "stream",
     "text": [
      "[5, 10, 15, 20, 25]\n"
     ]
    }
   ],
   "source": [
    "def add(r):\n",
    "    return r*5\n",
    "\n",
    "n=[1,2,3,4,5]\n",
    "     #function,must be iterable(constant changing value)\n",
    "r=list(map(add,n))\n",
    "print(r)"
   ]
  },
  {
   "cell_type": "code",
   "execution_count": 64,
   "id": "7d9b6fa5",
   "metadata": {},
   "outputs": [
    {
     "name": "stdout",
     "output_type": "stream",
     "text": [
      "[0, 2, 4, 6, 8, 10]\n"
     ]
    }
   ],
   "source": [
    "n=[0,1,2,3,4,5]\n",
    "e=list(map(lambda c:c*2,n))##store in map\n",
    "print(e)"
   ]
  },
  {
   "cell_type": "markdown",
   "id": "efd05abf",
   "metadata": {},
   "source": [
    "###### FILTER FUNCTION"
   ]
  },
  {
   "cell_type": "code",
   "execution_count": 67,
   "id": "8c83c665",
   "metadata": {},
   "outputs": [
    {
     "name": "stdout",
     "output_type": "stream",
     "text": [
      "[22, 44]\n"
     ]
    }
   ],
   "source": [
    "m=[11,22,33,44,55]\n",
    "t=list(filter(lambda x:x%2==0,m))##if correct store in filter or incorrect will not store in filter\n",
    "print(t)"
   ]
  }
 ],
 "metadata": {
  "kernelspec": {
   "display_name": "Python 3 (ipykernel)",
   "language": "python",
   "name": "python3"
  },
  "language_info": {
   "codemirror_mode": {
    "name": "ipython",
    "version": 3
   },
   "file_extension": ".py",
   "mimetype": "text/x-python",
   "name": "python",
   "nbconvert_exporter": "python",
   "pygments_lexer": "ipython3",
   "version": "3.9.0"
  }
 },
 "nbformat": 4,
 "nbformat_minor": 5
}
