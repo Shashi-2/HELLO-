{
 "cells": [
  {
   "cell_type": "markdown",
   "id": "20c12723",
   "metadata": {},
   "source": [
    "## dect are unordered data structured"
   ]
  },
  {
   "cell_type": "code",
   "execution_count": 8,
   "id": "74c05a6f",
   "metadata": {},
   "outputs": [
    {
     "name": "stdout",
     "output_type": "stream",
     "text": [
      "{'naman': 25, 'Ashu': 24}\n"
     ]
    }
   ],
   "source": [
    "age = {\"naman\":25,\"Ashu\":24}\n",
    "      #key    : value\n",
    "print(age)"
   ]
  },
  {
   "cell_type": "code",
   "execution_count": 8,
   "id": "0e1230e6",
   "metadata": {},
   "outputs": [
    {
     "name": "stdout",
     "output_type": "stream",
     "text": [
      "25\n"
     ]
    }
   ],
   "source": [
    "print(age[\"naman\"])"
   ]
  },
  {
   "cell_type": "code",
   "execution_count": 10,
   "id": "e2c2d542",
   "metadata": {},
   "outputs": [
    {
     "ename": "KeyError",
     "evalue": "'n'",
     "output_type": "error",
     "traceback": [
      "\u001b[1;31m---------------------------------------------------------------------------\u001b[0m",
      "\u001b[1;31mKeyError\u001b[0m                                  Traceback (most recent call last)",
      "\u001b[1;32m~\\AppData\\Local\\Temp/ipykernel_5412/26102035.py\u001b[0m in \u001b[0;36m<module>\u001b[1;34m\u001b[0m\n\u001b[1;32m----> 1\u001b[1;33m \u001b[0mprint\u001b[0m\u001b[1;33m(\u001b[0m\u001b[0mage\u001b[0m\u001b[1;33m[\u001b[0m\u001b[1;34m\"n\"\u001b[0m\u001b[1;33m]\u001b[0m\u001b[1;33m)\u001b[0m\u001b[1;33m\u001b[0m\u001b[1;33m\u001b[0m\u001b[0m\n\u001b[0m",
      "\u001b[1;31mKeyError\u001b[0m: 'n'"
     ]
    }
   ],
   "source": [
    "print(age[\"n\"])"
   ]
  },
  {
   "cell_type": "code",
   "execution_count": 3,
   "id": "d3ef4cf8",
   "metadata": {},
   "outputs": [
    {
     "name": "stdout",
     "output_type": "stream",
     "text": [
      "[50, 1, 80]\n"
     ]
    }
   ],
   "source": [
    "river={\n",
    "    \"narmada\":[20,15,0],\n",
    "    \"tapti\":[50,1,80],\n",
    "    \"sabarmati\":[40,8,9]\n",
    "}\n",
    "print(river[\"tapti\"])"
   ]
  },
  {
   "cell_type": "code",
   "execution_count": 4,
   "id": "a08feb63",
   "metadata": {},
   "outputs": [
    {
     "name": "stdout",
     "output_type": "stream",
     "text": [
      "{}\n",
      "<class 'dict'>\n"
     ]
    }
   ],
   "source": [
    "f={}\n",
    "print(f)\n",
    "print(type(f))"
   ]
  },
  {
   "cell_type": "code",
   "execution_count": 6,
   "id": "844b38b4",
   "metadata": {},
   "outputs": [
    {
     "name": "stdout",
     "output_type": "stream",
     "text": [
      "5\n"
     ]
    }
   ],
   "source": [
    "r={1:5,2:6,3:7}  #integer are immutable(cant change)\n",
    "print(r[1])"
   ]
  },
  {
   "cell_type": "code",
   "execution_count": 7,
   "id": "3c749174",
   "metadata": {},
   "outputs": [
    {
     "ename": "TypeError",
     "evalue": "unhashable type: 'list'",
     "output_type": "error",
     "traceback": [
      "\u001b[1;31m---------------------------------------------------------------------------\u001b[0m",
      "\u001b[1;31mTypeError\u001b[0m                                 Traceback (most recent call last)",
      "\u001b[1;32m~\\AppData\\Local\\Temp/ipykernel_1372/2265476137.py\u001b[0m in \u001b[0;36m<module>\u001b[1;34m\u001b[0m\n\u001b[1;32m----> 1\u001b[1;33m \u001b[0me\u001b[0m\u001b[1;33m=\u001b[0m\u001b[1;33m{\u001b[0m\u001b[1;33m[\u001b[0m\u001b[1;36m1\u001b[0m\u001b[1;33m,\u001b[0m\u001b[1;36m5\u001b[0m\u001b[1;33m]\u001b[0m\u001b[1;33m:\u001b[0m\u001b[1;36m12\u001b[0m\u001b[1;33m,\u001b[0m\u001b[1;36m5\u001b[0m\u001b[1;33m:\u001b[0m\u001b[1;36m8\u001b[0m\u001b[1;33m}\u001b[0m\u001b[1;33m\u001b[0m\u001b[1;33m\u001b[0m\u001b[0m\n\u001b[0m\u001b[0;32m      2\u001b[0m \u001b[0mprint\u001b[0m\u001b[1;33m(\u001b[0m\u001b[0mdo\u001b[0m\u001b[1;33m[\u001b[0m\u001b[1;36m1\u001b[0m\u001b[1;33m,\u001b[0m\u001b[1;36m5\u001b[0m\u001b[1;33m]\u001b[0m\u001b[1;33m)\u001b[0m\u001b[1;33m\u001b[0m\u001b[1;33m\u001b[0m\u001b[0m\n",
      "\u001b[1;31mTypeError\u001b[0m: unhashable type: 'list'"
     ]
    }
   ],
   "source": [
    "e={[1,5]:12,5:8}\n",
    "print(do[1,5])    ##list are mutable"
   ]
  },
  {
   "cell_type": "markdown",
   "id": "0d4139b0",
   "metadata": {},
   "source": [
    "#### Dictionary Function"
   ]
  },
  {
   "cell_type": "code",
   "execution_count": 9,
   "id": "cd367861",
   "metadata": {},
   "outputs": [
    {
     "name": "stdout",
     "output_type": "stream",
     "text": [
      "3\n"
     ]
    }
   ],
   "source": [
    "r={2:5,6:9,4:8}\n",
    "print(len(r))"
   ]
  },
  {
   "cell_type": "code",
   "execution_count": 10,
   "id": "cd224b2e",
   "metadata": {},
   "outputs": [
    {
     "name": "stdout",
     "output_type": "stream",
     "text": [
      "{2: 5, 6: 9, 4: 8}\n"
     ]
    }
   ],
   "source": [
    "print(str(r))"
   ]
  },
  {
   "cell_type": "code",
   "execution_count": 11,
   "id": "ec4a1572",
   "metadata": {},
   "outputs": [
    {
     "name": "stdout",
     "output_type": "stream",
     "text": [
      "12\n"
     ]
    }
   ],
   "source": [
    "print(sum(r))"
   ]
  },
  {
   "cell_type": "code",
   "execution_count": 12,
   "id": "e692141f",
   "metadata": {},
   "outputs": [
    {
     "ename": "TypeError",
     "evalue": "unsupported operand type(s) for +: 'int' and 'str'",
     "output_type": "error",
     "traceback": [
      "\u001b[1;31m---------------------------------------------------------------------------\u001b[0m",
      "\u001b[1;31mTypeError\u001b[0m                                 Traceback (most recent call last)",
      "\u001b[1;32m~\\AppData\\Local\\Temp/ipykernel_1372/2880764134.py\u001b[0m in \u001b[0;36m<module>\u001b[1;34m\u001b[0m\n\u001b[0;32m      1\u001b[0m \u001b[0mh\u001b[0m\u001b[1;33m=\u001b[0m\u001b[1;33m{\u001b[0m\u001b[1;36m2\u001b[0m\u001b[1;33m:\u001b[0m\u001b[1;36m5\u001b[0m\u001b[1;33m,\u001b[0m\u001b[1;36m6\u001b[0m\u001b[1;33m:\u001b[0m\u001b[1;36m9\u001b[0m\u001b[1;33m,\u001b[0m\u001b[1;34m\"ok\"\u001b[0m\u001b[1;33m:\u001b[0m\u001b[1;36m8\u001b[0m\u001b[1;33m}\u001b[0m\u001b[1;33m\u001b[0m\u001b[1;33m\u001b[0m\u001b[0m\n\u001b[1;32m----> 2\u001b[1;33m \u001b[0mprint\u001b[0m\u001b[1;33m(\u001b[0m\u001b[0msum\u001b[0m\u001b[1;33m(\u001b[0m\u001b[0mh\u001b[0m\u001b[1;33m)\u001b[0m\u001b[1;33m)\u001b[0m\u001b[1;33m\u001b[0m\u001b[1;33m\u001b[0m\u001b[0m\n\u001b[0m",
      "\u001b[1;31mTypeError\u001b[0m: unsupported operand type(s) for +: 'int' and 'str'"
     ]
    }
   ],
   "source": [
    "h={2:5,6:9,\"ok\":8}\n",
    "print(sum(h))"
   ]
  },
  {
   "cell_type": "code",
   "execution_count": 13,
   "id": "9f38869a",
   "metadata": {},
   "outputs": [
    {
     "name": "stdout",
     "output_type": "stream",
     "text": [
      "6\n"
     ]
    }
   ],
   "source": [
    "print(max(r))    ## working in keys"
   ]
  },
  {
   "cell_type": "markdown",
   "id": "18b57990",
   "metadata": {},
   "source": [
    "#### Dict Method(.)"
   ]
  },
  {
   "cell_type": "code",
   "execution_count": 14,
   "id": "a8615003",
   "metadata": {},
   "outputs": [
    {
     "name": "stdout",
     "output_type": "stream",
     "text": [
      "[1, 2, 5]\n"
     ]
    }
   ],
   "source": [
    "##GET\n",
    "l={1:\"sort\",\"fine\":[1,2,5],\"5\":\"80\"}\n",
    "print(l.get(\"fine\"))"
   ]
  },
  {
   "cell_type": "code",
   "execution_count": 15,
   "id": "a89ba5c2",
   "metadata": {},
   "outputs": [
    {
     "name": "stdout",
     "output_type": "stream",
     "text": [
      "NOT IN DICT\n"
     ]
    }
   ],
   "source": [
    "        #key,if not print this\n",
    "print(l.get(9,\"NOT IN DICT\"))"
   ]
  },
  {
   "cell_type": "code",
   "execution_count": 16,
   "id": "1164ac65",
   "metadata": {},
   "outputs": [
    {
     "name": "stdout",
     "output_type": "stream",
     "text": [
      "None\n"
     ]
    }
   ],
   "source": [
    "print(l.get(9))"
   ]
  },
  {
   "cell_type": "code",
   "execution_count": 17,
   "id": "0c22ccec",
   "metadata": {},
   "outputs": [
    {
     "name": "stdout",
     "output_type": "stream",
     "text": [
      "17\n"
     ]
    }
   ],
   "source": [
    "d={1:5,4:8,9:0}\n",
    "print(d.get(1,0)+d.get(0,12))"
   ]
  },
  {
   "cell_type": "code",
   "execution_count": 18,
   "id": "f505821a",
   "metadata": {},
   "outputs": [],
   "source": [
    "##clear= to covert dict value into empty dict \n",
    "d.clear()"
   ]
  },
  {
   "cell_type": "code",
   "execution_count": 19,
   "id": "5030d889",
   "metadata": {},
   "outputs": [
    {
     "name": "stdout",
     "output_type": "stream",
     "text": [
      "{}\n"
     ]
    }
   ],
   "source": [
    "print(d)"
   ]
  },
  {
   "cell_type": "code",
   "execution_count": 20,
   "id": "68b54604",
   "metadata": {},
   "outputs": [
    {
     "ename": "NameError",
     "evalue": "name 'd' is not defined",
     "output_type": "error",
     "traceback": [
      "\u001b[1;31m---------------------------------------------------------------------------\u001b[0m",
      "\u001b[1;31mNameError\u001b[0m                                 Traceback (most recent call last)",
      "\u001b[1;32m~\\AppData\\Local\\Temp/ipykernel_1372/3254065855.py\u001b[0m in \u001b[0;36m<module>\u001b[1;34m\u001b[0m\n\u001b[0;32m      1\u001b[0m \u001b[1;32mdel\u001b[0m \u001b[0md\u001b[0m\u001b[1;33m\u001b[0m\u001b[1;33m\u001b[0m\u001b[0m\n\u001b[1;32m----> 2\u001b[1;33m \u001b[0mprint\u001b[0m\u001b[1;33m(\u001b[0m\u001b[0md\u001b[0m\u001b[1;33m)\u001b[0m\u001b[1;33m\u001b[0m\u001b[1;33m\u001b[0m\u001b[0m\n\u001b[0m",
      "\u001b[1;31mNameError\u001b[0m: name 'd' is not defined"
     ]
    }
   ],
   "source": [
    "del d\n",
    "print(d)"
   ]
  },
  {
   "cell_type": "code",
   "execution_count": 21,
   "id": "1e6e890a",
   "metadata": {},
   "outputs": [
    {
     "name": "stdout",
     "output_type": "stream",
     "text": [
      "dict_keys([1, 4, 9])\n"
     ]
    }
   ],
   "source": [
    "##keys\n",
    "d={1:5,4:8,9:0}\n",
    "print(d.keys())"
   ]
  },
  {
   "cell_type": "code",
   "execution_count": 23,
   "id": "497c43ee",
   "metadata": {},
   "outputs": [
    {
     "name": "stdout",
     "output_type": "stream",
     "text": [
      "dict_keys([2, 6, 4])\n",
      "<class 'dict'>\n"
     ]
    }
   ],
   "source": [
    "a=r.keys()\n",
    "print(a)\n",
    "print(type(d))"
   ]
  },
  {
   "cell_type": "code",
   "execution_count": 24,
   "id": "6669c280",
   "metadata": {},
   "outputs": [
    {
     "name": "stdout",
     "output_type": "stream",
     "text": [
      "dict_values([5, 8, 0])\n"
     ]
    }
   ],
   "source": [
    "##values\n",
    "d={1:5,4:8,9:0}\n",
    "print(d.values())"
   ]
  },
  {
   "cell_type": "code",
   "execution_count": 26,
   "id": "7422f721",
   "metadata": {},
   "outputs": [
    {
     "name": "stdout",
     "output_type": "stream",
     "text": [
      "{'ram': 9, 5: 8}\n"
     ]
    }
   ],
   "source": [
    "s={\"ram\":1,5:8,\"ram\":9}       #uniqe = last value replace\n",
    "print(s)"
   ]
  },
  {
   "cell_type": "code",
   "execution_count": 28,
   "id": "590bf7a3",
   "metadata": {},
   "outputs": [
    {
     "data": {
      "text/plain": [
       "dict_items([('ram', 9), (5, 8)])"
      ]
     },
     "execution_count": 28,
     "metadata": {},
     "output_type": "execute_result"
    }
   ],
   "source": [
    "##items   ==  pairs\n",
    "s.items()"
   ]
  },
  {
   "cell_type": "markdown",
   "id": "ea1c032a",
   "metadata": {},
   "source": [
    "a-->1\n",
    "b-->2\n",
    "c-->3"
   ]
  },
  {
   "cell_type": "code",
   "execution_count": 30,
   "id": "aa3f17a5",
   "metadata": {},
   "outputs": [
    {
     "name": "stdout",
     "output_type": "stream",
     "text": [
      "a --> 1\n",
      "b --> 2\n",
      "c --> 3\n"
     ]
    }
   ],
   "source": [
    "k={'a':1,'b':2,'c':3}\n",
    "\n",
    "for x,y in k.items():\n",
    "    print(x,\"-->\",y)"
   ]
  },
  {
   "cell_type": "raw",
   "id": "d1dcec61",
   "metadata": {},
   "source": [
    "WAP to merge two dict.   ####update"
   ]
  },
  {
   "cell_type": "code",
   "execution_count": 4,
   "id": "6b74c9cd",
   "metadata": {},
   "outputs": [
    {
     "name": "stdout",
     "output_type": "stream",
     "text": [
      "{'a': 1, 'b': 4, 'c': 3, 'd': 2}\n"
     ]
    }
   ],
   "source": [
    "l={\"a\":1,\"b\":4}\n",
    "t={\"c\":3,\"d\":2}\n",
    "l.update(t)\n",
    "print(l)"
   ]
  },
  {
   "cell_type": "raw",
   "id": "ffbfb63c",
   "metadata": {},
   "source": [
    "WAP to sum all the items in dict."
   ]
  },
  {
   "cell_type": "code",
   "execution_count": 8,
   "id": "b1f2114f",
   "metadata": {},
   "outputs": [
    {
     "name": "stdout",
     "output_type": "stream",
     "text": [
      "2\n",
      "4\n",
      "6\n",
      "8\n"
     ]
    }
   ],
   "source": [
    "s={1:1,2:2,3:3,4:4}\n",
    "for a,b in s.items():\n",
    "    print(a+b)"
   ]
  },
  {
   "cell_type": "raw",
   "id": "cb123b60",
   "metadata": {},
   "source": [
    "WAP to multiply all items."
   ]
  },
  {
   "cell_type": "code",
   "execution_count": 9,
   "id": "2a21a7bd",
   "metadata": {},
   "outputs": [
    {
     "name": "stdout",
     "output_type": "stream",
     "text": [
      "1\n",
      "4\n",
      "9\n",
      "16\n"
     ]
    }
   ],
   "source": [
    "s={1:1,2:2,3:3,4:4}\n",
    "for a,b in s.items():\n",
    "    print(a*b)"
   ]
  },
  {
   "cell_type": "raw",
   "id": "2a68b84e",
   "metadata": {},
   "source": [
    "WAP to check a dict is empty or not."
   ]
  },
  {
   "cell_type": "code",
   "execution_count": 15,
   "id": "ded1d6ff",
   "metadata": {},
   "outputs": [
    {
     "name": "stdout",
     "output_type": "stream",
     "text": [
      "EMPTY DICT\n"
     ]
    }
   ],
   "source": [
    "t={\"Rx\":5,\"lt\":4}\n",
    "s={}\n",
    "if s=={}:\n",
    "    print(\"EMPTY DICT\")\n",
    "else:\n",
    "    print(\"NOT EMPTY\")"
   ]
  },
  {
   "cell_type": "raw",
   "id": "bde3733b",
   "metadata": {},
   "source": [
    "WAP to print follwing output.\n",
    "{1:1,2:4,3:9........,10:100}"
   ]
  },
  {
   "cell_type": "code",
   "execution_count": 33,
   "id": "6fbbf5ba",
   "metadata": {},
   "outputs": [
    {
     "name": "stdout",
     "output_type": "stream",
     "text": [
      "{1: 1, 2: 4, 3: 9, 4: 16, 5: 25, 6: 36, 7: 49, 8: 64, 9: 81, 10: 100}\n"
     ]
    }
   ],
   "source": [
    "s={}\n",
    "for i in range(1,11):\n",
    "    s[i]=i*i\n",
    "    \n",
    "print(s)"
   ]
  },
  {
   "cell_type": "code",
   "execution_count": 31,
   "id": "1afd0870",
   "metadata": {},
   "outputs": [
    {
     "name": "stdout",
     "output_type": "stream",
     "text": [
      "{1: 10, 2: '**'}\n"
     ]
    }
   ],
   "source": [
    "a={1:10}\n",
    "a[2]=\"**\"\n",
    "print(a)"
   ]
  }
 ],
 "metadata": {
  "kernelspec": {
   "display_name": "Python 3 (ipykernel)",
   "language": "python",
   "name": "python3"
  },
  "language_info": {
   "codemirror_mode": {
    "name": "ipython",
    "version": 3
   },
   "file_extension": ".py",
   "mimetype": "text/x-python",
   "name": "python",
   "nbconvert_exporter": "python",
   "pygments_lexer": "ipython3",
   "version": "3.9.0"
  }
 },
 "nbformat": 4,
 "nbformat_minor": 5
}
