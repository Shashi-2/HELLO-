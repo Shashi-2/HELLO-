{
 "cells": [
  {
   "cell_type": "code",
   "execution_count": 1,
   "id": "08cd7251",
   "metadata": {},
   "outputs": [
    {
     "name": "stdout",
     "output_type": "stream",
     "text": [
      "ENTER A NO 125\n",
      "REVERSE IS :  521\n"
     ]
    }
   ],
   "source": [
    "x=int(input(\"ENTER A NO \"))\n",
    "s=0\n",
    "while x>0:\n",
    "    r=x%10\n",
    "    s=s*10+r\n",
    "    x=x//10\n",
    "print(\"REVERSE IS : \",s)    "
   ]
  },
  {
   "cell_type": "code",
   "execution_count": 2,
   "id": "d9b06555",
   "metadata": {},
   "outputs": [],
   "source": [
    "#palindroms"
   ]
  },
  {
   "cell_type": "code",
   "execution_count": null,
   "id": "a121d1d7",
   "metadata": {},
   "outputs": [],
   "source": [
    "x=int(input(\"ENTER A NO \"))\n",
    "s=0\n",
    "temp=x\n",
    "while x>0:    #x=125,12,1\n",
    "    r=x%10    #r=5,2,1\n",
    "    s=s*10+r  #s=5,52,521\n",
    "    x=x//10   #x=12,1,0\n",
    "print(\"REVERSE IS : \",s) \n",
    "\n",
    "if s==temp:\n",
    "    print(\"PALINDROMS\")\n",
    "else:\n",
    "    print(\"NOT PALINDROMS\")"
   ]
  },
  {
   "cell_type": "code",
   "execution_count": null,
   "id": "67c8d101",
   "metadata": {},
   "outputs": [],
   "source": [
    "#ARMSTRONG OR NOT"
   ]
  },
  {
   "cell_type": "code",
   "execution_count": null,
   "id": "eb00fab5",
   "metadata": {},
   "outputs": [],
   "source": [
    "x=int(input(\"ENTER A NUM \"))\n",
    "s=0\n",
    "temp=x\n",
    "while x>0:\n",
    "    r=x%10\n",
    "    s=s+(r*r*r)\n",
    "    x=x//10\n",
    "if s==temp:\n",
    "    print(\"ARMSTRONG\")\n",
    "else:\n",
    "    print(\"NOT ARMSTRONG\")"
   ]
  },
  {
   "cell_type": "code",
   "execution_count": null,
   "id": "06715bfc",
   "metadata": {},
   "outputs": [],
   "source": [
    "#Question\n",
    "#753\n",
    "#output\n",
    "#7\n",
    "#5\n",
    "#3"
   ]
  },
  {
   "cell_type": "code",
   "execution_count": 8,
   "id": "135b077e",
   "metadata": {},
   "outputs": [
    {
     "name": "stdout",
     "output_type": "stream",
     "text": [
      "ENTER A NUMBER 123\n",
      "1\n",
      "2\n",
      "3\n"
     ]
    }
   ],
   "source": [
    "x=int(input(\"ENTER A NUMBER \"))     #x=123\n",
    "s=0\n",
    "temp=x\n",
    "while x>0:\n",
    "    r=x%10    #r=3,2,1\n",
    "    s=s*10+r  #s=3,32,321\n",
    "    x=x//10   #x=12,1,0\n",
    "\n",
    "while s>0:    #s=321,32,3\n",
    "    r=s%10    #r=1,2,3\n",
    "    print(r)\n",
    "    s=s//10   #s=32,3,0\n"
   ]
  },
  {
   "cell_type": "code",
   "execution_count": null,
   "id": "c0aec3a5",
   "metadata": {},
   "outputs": [],
   "source": [
    "#print individual digit in char formate"
   ]
  },
  {
   "cell_type": "code",
   "execution_count": null,
   "id": "9b711512",
   "metadata": {},
   "outputs": [],
   "source": [
    "n=int(input(\"ENTER A NUMBER \"))   #n=405\n",
    "s=0\n",
    "while n>0:     #n==405,40,4\n",
    "    r=n%10     #r=5,0,4\n",
    "    s=s*10+r   #s=5,50,504\n",
    "    n=n//10    #n=40,4,0\n",
    "\n",
    "while s>0:     #s=504,50,5\n",
    "    r=s%10     #r=4,0,5\n",
    "    if r==1:\n",
    "        print(\"ONE\")\n",
    "    elif r==2:\n",
    "        print(\"TWO\")\n",
    "    elif r==3:\n",
    "        print(\"THREE\")\n",
    "    elif r==4:\n",
    "        print(\"FOUR\")\n",
    "    elif r==5:\n",
    "        print(\"FIVE\")\n",
    "    elif r==6:\n",
    "        print(\"SIX\")\n",
    "    elif r==7:\n",
    "        print(\"SEVEN\")\n",
    "    elif r==8:\n",
    "        print(\"EIGHT\")\n",
    "    elif r==9:\n",
    "        print(\"NINE\")\n",
    "    elif r==0:\n",
    "        print(\"ZERO\")\n",
    "    s=s//10            #504,50,5,0"
   ]
  },
  {
   "cell_type": "code",
   "execution_count": 4,
   "id": "898318dc",
   "metadata": {},
   "outputs": [],
   "source": [
    "#FACTORIAL"
   ]
  },
  {
   "cell_type": "code",
   "execution_count": 18,
   "id": "d88e6fc0",
   "metadata": {},
   "outputs": [
    {
     "name": "stdout",
     "output_type": "stream",
     "text": [
      "ENTER A NUMBER3\n",
      "6\n"
     ]
    }
   ],
   "source": [
    "x=int(input(\"ENTER A NUMBER\"))\n",
    "f=1\n",
    "while x>0:\n",
    "    f=f*x\n",
    "    x=x-1\n",
    "print(f)"
   ]
  },
  {
   "cell_type": "code",
   "execution_count": 19,
   "id": "9854f9dc",
   "metadata": {},
   "outputs": [],
   "source": [
    "#NESTED LOOP"
   ]
  },
  {
   "cell_type": "code",
   "execution_count": 37,
   "id": "1cd89080",
   "metadata": {},
   "outputs": [
    {
     "name": "stdout",
     "output_type": "stream",
     "text": [
      "11 12 13 \n",
      "21 22 23 \n",
      "31 32 33 \n"
     ]
    }
   ],
   "source": [
    "x=1\n",
    "\n",
    "while x<=3:\n",
    "    y=1\n",
    "    while y<=3:\n",
    "        print(x,end=\"\")\n",
    "        print(y,end=\" \")\n",
    "        y+=1   \n",
    "    print()\n",
    "    x+=1        "
   ]
  },
  {
   "cell_type": "code",
   "execution_count": 38,
   "id": "27ecaf99",
   "metadata": {},
   "outputs": [
    {
     "name": "stdout",
     "output_type": "stream",
     "text": [
      "*  *  *  \n",
      "*  *  *  \n",
      "*  *  *  \n"
     ]
    }
   ],
   "source": [
    "x=1\n",
    "\n",
    "while x<=3:\n",
    "    y=1\n",
    "    while y<=3:\n",
    "        print(\"*\",end=\"  \")\n",
    "        y+=1   \n",
    "    print()\n",
    "    x+=1    "
   ]
  },
  {
   "cell_type": "code",
   "execution_count": 42,
   "id": "43828c83",
   "metadata": {},
   "outputs": [
    {
     "name": "stdout",
     "output_type": "stream",
     "text": [
      "ENTER A NUMBER5\n",
      "1\n",
      "12\n",
      "123\n",
      "1234\n",
      "12345\n"
     ]
    }
   ],
   "source": [
    "n=int(input(\"ENTER A NUMBER\"))\n",
    "x=1\n",
    "while x<=n:\n",
    "    y=1\n",
    "    while y<=x:\n",
    "        print(y,end=\"\")\n",
    "        y+=1\n",
    "    print() \n",
    "    x+=1"
   ]
  },
  {
   "cell_type": "code",
   "execution_count": 44,
   "id": "a469f1f7",
   "metadata": {},
   "outputs": [
    {
     "name": "stdout",
     "output_type": "stream",
     "text": [
      "ENTER A NUMBER5\n",
      "*\n",
      "**\n",
      "***\n",
      "****\n",
      "*****\n"
     ]
    }
   ],
   "source": [
    "n=int(input(\"ENTER A NUMBER\"))\n",
    "x=1\n",
    "while x<=n:\n",
    "    y=1\n",
    "    while y<=x:\n",
    "        print(\"*\",end=\"\")\n",
    "        y+=1\n",
    "    print() \n",
    "    x+=1"
   ]
  },
  {
   "cell_type": "code",
   "execution_count": 1,
   "id": "2cf6d6a8",
   "metadata": {},
   "outputs": [
    {
     "name": "stdout",
     "output_type": "stream",
     "text": [
      "ENTER A NUMBER5\n",
      "1\n",
      "22\n",
      "333\n",
      "4444\n",
      "55555\n"
     ]
    }
   ],
   "source": [
    "n=int(input(\"ENTER A NUMBER\"))\n",
    "x=1\n",
    "while x<=n:\n",
    "    y=1\n",
    "    while y<=x:\n",
    "        print(x,end=\"\")\n",
    "        y+=1\n",
    "    print() \n",
    "    x+=1"
   ]
  },
  {
   "cell_type": "code",
   "execution_count": null,
   "id": "019872a9",
   "metadata": {},
   "outputs": [],
   "source": []
  }
 ],
 "metadata": {
  "kernelspec": {
   "display_name": "Python 3 (ipykernel)",
   "language": "python",
   "name": "python3"
  },
  "language_info": {
   "codemirror_mode": {
    "name": "ipython",
    "version": 3
   },
   "file_extension": ".py",
   "mimetype": "text/x-python",
   "name": "python",
   "nbconvert_exporter": "python",
   "pygments_lexer": "ipython3",
   "version": "3.9.0"
  }
 },
 "nbformat": 4,
 "nbformat_minor": 5
}
