{
 "cells": [
  {
   "cell_type": "code",
   "execution_count": 1,
   "id": "4a092b66",
   "metadata": {},
   "outputs": [
    {
     "name": "stdout",
     "output_type": "stream",
     "text": [
      "(1, 5, 8, 7)\n"
     ]
    }
   ],
   "source": [
    "t=(1,5,8,7)\n",
    "print(t)"
   ]
  },
  {
   "cell_type": "code",
   "execution_count": 2,
   "id": "946e46f3",
   "metadata": {},
   "outputs": [
    {
     "name": "stdout",
     "output_type": "stream",
     "text": [
      "8\n"
     ]
    }
   ],
   "source": [
    "print(t[2])"
   ]
  },
  {
   "cell_type": "code",
   "execution_count": 3,
   "id": "105a32c4",
   "metadata": {},
   "outputs": [
    {
     "ename": "TypeError",
     "evalue": "'tuple' object does not support item assignment",
     "output_type": "error",
     "traceback": [
      "\u001b[1;31m---------------------------------------------------------------------------\u001b[0m",
      "\u001b[1;31mTypeError\u001b[0m                                 Traceback (most recent call last)",
      "\u001b[1;32m~\\AppData\\Local\\Temp/ipykernel_12824/2642954768.py\u001b[0m in \u001b[0;36m<module>\u001b[1;34m\u001b[0m\n\u001b[1;32m----> 1\u001b[1;33m \u001b[0mt\u001b[0m\u001b[1;33m[\u001b[0m\u001b[1;36m1\u001b[0m\u001b[1;33m]\u001b[0m\u001b[1;33m=\u001b[0m\u001b[1;36m2\u001b[0m\u001b[1;33m\u001b[0m\u001b[1;33m\u001b[0m\u001b[0m\n\u001b[0m",
      "\u001b[1;31mTypeError\u001b[0m: 'tuple' object does not support item assignment"
     ]
    }
   ],
   "source": [
    "t[1]=2   #tuple are immutable object"
   ]
  },
  {
   "cell_type": "code",
   "execution_count": 5,
   "id": "213ebb44",
   "metadata": {},
   "outputs": [
    {
     "name": "stdout",
     "output_type": "stream",
     "text": [
      "('rohan', 'three', 'far')\n",
      "three\n",
      "<class 'tuple'>\n"
     ]
    }
   ],
   "source": [
    "b=\"rohan\",\"three\",\"far\"\n",
    "print(b)\n",
    "print(b[1])\n",
    "print(type(b))"
   ]
  },
  {
   "cell_type": "code",
   "execution_count": 7,
   "id": "d02bb315",
   "metadata": {},
   "outputs": [
    {
     "name": "stdout",
     "output_type": "stream",
     "text": [
      "<class 'tuple'>\n",
      "<class 'str'>\n"
     ]
    }
   ],
   "source": [
    "i=\"rox\",\n",
    "print(type(i))\n",
    "i=\"rox\"\n",
    "print(type(i))"
   ]
  },
  {
   "cell_type": "code",
   "execution_count": 8,
   "id": "af3d4c11",
   "metadata": {},
   "outputs": [
    {
     "name": "stdout",
     "output_type": "stream",
     "text": [
      "()\n",
      "<class 'tuple'>\n"
     ]
    }
   ],
   "source": [
    "h=()\n",
    "print(h)\n",
    "print(type(h))"
   ]
  },
  {
   "cell_type": "markdown",
   "id": "aa66c639",
   "metadata": {},
   "source": [
    "##### tuple unpacking"
   ]
  },
  {
   "cell_type": "code",
   "execution_count": 9,
   "id": "6dbbeb4c",
   "metadata": {},
   "outputs": [
    {
     "name": "stdout",
     "output_type": "stream",
     "text": [
      "1\n",
      "2\n",
      "5\n"
     ]
    }
   ],
   "source": [
    "n=(1,2,5)\n",
    "a,b,c=n\n",
    "print(a)\n",
    "print(b)\n",
    "print(c)"
   ]
  },
  {
   "cell_type": "code",
   "execution_count": 10,
   "id": "a944d400",
   "metadata": {},
   "outputs": [
    {
     "name": "stdout",
     "output_type": "stream",
     "text": [
      "8\n",
      "9\n"
     ]
    }
   ],
   "source": [
    "a,b=8,9\n",
    "print(a)\n",
    "print(b)"
   ]
  },
  {
   "cell_type": "markdown",
   "id": "bf30492f",
   "metadata": {},
   "source": [
    "##### Swap two number"
   ]
  },
  {
   "cell_type": "code",
   "execution_count": 11,
   "id": "d317e53c",
   "metadata": {},
   "outputs": [
    {
     "name": "stdout",
     "output_type": "stream",
     "text": [
      "10\n",
      "5\n"
     ]
    }
   ],
   "source": [
    "x=5\n",
    "y=10\n",
    "c=x\n",
    "x=y\n",
    "y=c\n",
    "print(x)\n",
    "print(y)"
   ]
  },
  {
   "cell_type": "markdown",
   "id": "edb56739",
   "metadata": {},
   "source": [
    "##### withoutusing 3rd variable"
   ]
  },
  {
   "cell_type": "code",
   "execution_count": 12,
   "id": "ad741704",
   "metadata": {},
   "outputs": [
    {
     "name": "stdout",
     "output_type": "stream",
     "text": [
      "50\n",
      "20\n"
     ]
    }
   ],
   "source": [
    "a=20\n",
    "b=50\n",
    "\n",
    "a=a+b\n",
    "b=a-b\n",
    "a=a-b\n",
    "print(a)\n",
    "print(b)"
   ]
  },
  {
   "cell_type": "code",
   "execution_count": 13,
   "id": "c595b25d",
   "metadata": {},
   "outputs": [
    {
     "name": "stdout",
     "output_type": "stream",
     "text": [
      "20\n",
      "50\n"
     ]
    }
   ],
   "source": [
    "print(b)\n",
    "print(a)"
   ]
  },
  {
   "cell_type": "code",
   "execution_count": 14,
   "id": "b2d1db17",
   "metadata": {},
   "outputs": [
    {
     "name": "stdout",
     "output_type": "stream",
     "text": [
      "200\n",
      "100\n"
     ]
    }
   ],
   "source": [
    "z=100\n",
    "x=200\n",
    "\n",
    "z,x=x,z\n",
    "print(z)\n",
    "print(x)"
   ]
  },
  {
   "cell_type": "code",
   "execution_count": 15,
   "id": "bd25658f",
   "metadata": {},
   "outputs": [
    {
     "name": "stdout",
     "output_type": "stream",
     "text": [
      "(2, 5, 8, 9, 4, 6, 7, 10, 56, 88)\n"
     ]
    }
   ],
   "source": [
    "f=(2,5,8,9,4,6,7,10,56,88)\n",
    "print(f\n",
    "     )"
   ]
  },
  {
   "cell_type": "code",
   "execution_count": 16,
   "id": "3dd367a0",
   "metadata": {},
   "outputs": [
    {
     "name": "stdout",
     "output_type": "stream",
     "text": [
      "(8, 9, 4, 6, 7)\n"
     ]
    }
   ],
   "source": [
    "print(f[2:7])"
   ]
  },
  {
   "cell_type": "code",
   "execution_count": 19,
   "id": "b96634b5",
   "metadata": {},
   "outputs": [
    {
     "name": "stdout",
     "output_type": "stream",
     "text": [
      "(5, 8, 9)\n"
     ]
    }
   ],
   "source": [
    "print(f[-9:-6])"
   ]
  },
  {
   "cell_type": "code",
   "execution_count": 20,
   "id": "4ab2562a",
   "metadata": {},
   "outputs": [
    {
     "name": "stdout",
     "output_type": "stream",
     "text": [
      "()\n"
     ]
    }
   ],
   "source": [
    "print(f[-6:-8])"
   ]
  },
  {
   "cell_type": "code",
   "execution_count": 21,
   "id": "7687d2dd",
   "metadata": {},
   "outputs": [
    {
     "name": "stdout",
     "output_type": "stream",
     "text": [
      "(2, 8, 4, 7, 56)\n"
     ]
    }
   ],
   "source": [
    "print(f[::2])"
   ]
  },
  {
   "cell_type": "code",
   "execution_count": 22,
   "id": "72308647",
   "metadata": {},
   "outputs": [
    {
     "name": "stdout",
     "output_type": "stream",
     "text": [
      "(88, 56, 10, 7, 6, 4, 9, 8, 5, 2)\n"
     ]
    }
   ],
   "source": [
    "print(f[::-1])"
   ]
  },
  {
   "cell_type": "markdown",
   "id": "80aabbbf",
   "metadata": {},
   "source": [
    "### Tuple Method"
   ]
  },
  {
   "cell_type": "code",
   "execution_count": 26,
   "id": "dc82d573",
   "metadata": {},
   "outputs": [
    {
     "name": "stdout",
     "output_type": "stream",
     "text": [
      "3\n"
     ]
    }
   ],
   "source": [
    "##count\n",
    "b=(1,2,1,3,5,1,8)\n",
    "t=b.count(1)\n",
    "print(t)"
   ]
  },
  {
   "cell_type": "code",
   "execution_count": 28,
   "id": "4599a12c",
   "metadata": {},
   "outputs": [
    {
     "name": "stdout",
     "output_type": "stream",
     "text": [
      "3\n"
     ]
    }
   ],
   "source": [
    "##index\n",
    "s=(1,5,8,9)\n",
    "y=s.index(9)\n",
    "print(y)"
   ]
  },
  {
   "cell_type": "markdown",
   "id": "6a9a833d",
   "metadata": {},
   "source": [
    "### Tuple Function"
   ]
  },
  {
   "cell_type": "code",
   "execution_count": 31,
   "id": "584dac1b",
   "metadata": {},
   "outputs": [
    {
     "name": "stdout",
     "output_type": "stream",
     "text": [
      "4\n",
      "100\n",
      "55\n",
      "296\n"
     ]
    }
   ],
   "source": [
    "d=(55,72,69,100)\n",
    "print(len(d))\n",
    "print(max(d))\n",
    "print(min(d))\n",
    "print(sum(d))"
   ]
  },
  {
   "cell_type": "code",
   "execution_count": 33,
   "id": "014ee308",
   "metadata": {},
   "outputs": [
    {
     "name": "stdout",
     "output_type": "stream",
     "text": [
      "(1, 11, 11, 1111)\n",
      "(1, 11, 11, 1111, 11111)\n"
     ]
    }
   ],
   "source": [
    "c=(1,11,11,1111)\n",
    "ci=c+(11111,)\n",
    "print(c)\n",
    "print(ci)"
   ]
  },
  {
   "cell_type": "markdown",
   "id": "c0e06f69",
   "metadata": {},
   "source": [
    "##### Question"
   ]
  },
  {
   "cell_type": "raw",
   "id": "a35e513b",
   "metadata": {},
   "source": [
    "WAP to print how many times a number occered in a tuple."
   ]
  },
  {
   "cell_type": "code",
   "execution_count": 1,
   "id": "0fb1f02b",
   "metadata": {},
   "outputs": [
    {
     "name": "stdout",
     "output_type": "stream",
     "text": [
      "No. occured 3\n"
     ]
    }
   ],
   "source": [
    "i=(1,4,5,4,7,8,4)\n",
    "l=i.count(4)\n",
    "print(\"No. occured\",l)"
   ]
  },
  {
   "cell_type": "raw",
   "id": "c9358d34",
   "metadata": {},
   "source": [
    "WAP to remove an item from tuple."
   ]
  },
  {
   "cell_type": "code",
   "execution_count": 38,
   "id": "c3ea96e2",
   "metadata": {},
   "outputs": [
    {
     "name": "stdout",
     "output_type": "stream",
     "text": [
      "('s', 'h', 'a', 's', 'h', 'i')\n"
     ]
    }
   ],
   "source": [
    "u=(\"s\",\"h\",\"a\",\"t\",\"s\",\"h\",\"i\")\n",
    "r=u[:3]+u[-3:]\n",
    "print(r)"
   ]
  },
  {
   "cell_type": "code",
   "execution_count": 41,
   "id": "1a2259b3",
   "metadata": {},
   "outputs": [
    {
     "name": "stdout",
     "output_type": "stream",
     "text": [
      "('s', 'h', 'a', 's', 'h', 'i')\n"
     ]
    }
   ],
   "source": [
    "##alternative\n",
    "u=(\"s\",\"h\",\"a\",\"t\",\"s\",\"h\",\"i\")\n",
    "r=list(u)\n",
    "r.remove(\"t\")\n",
    "u=tuple(r)\n",
    "print(u)"
   ]
  },
  {
   "cell_type": "raw",
   "id": "2ceab4f4",
   "metadata": {},
   "source": [
    "WAP to find the position of tuple in a list."
   ]
  },
  {
   "cell_type": "code",
   "execution_count": 2,
   "id": "ec23ec47",
   "metadata": {},
   "outputs": [
    {
     "name": "stdout",
     "output_type": "stream",
     "text": [
      "True\n"
     ]
    }
   ],
   "source": [
    "k=[10,50,40,(1,0),40]\n",
    "print(isinstance(k,list))    ##instance==member"
   ]
  },
  {
   "cell_type": "code",
   "execution_count": 3,
   "id": "3bfc4402",
   "metadata": {},
   "outputs": [
    {
     "name": "stdout",
     "output_type": "stream",
     "text": [
      "False\n"
     ]
    }
   ],
   "source": [
    "print(isinstance(k,tuple))"
   ]
  },
  {
   "cell_type": "code",
   "execution_count": 6,
   "id": "ffbe8358",
   "metadata": {},
   "outputs": [
    {
     "name": "stdout",
     "output_type": "stream",
     "text": [
      "POSITION IS :- 3\n"
     ]
    }
   ],
   "source": [
    "k=[10,50,40,(1,0),40]\n",
    "a=0\n",
    "\n",
    "for i in k:\n",
    "    if isinstance(i,tuple):\n",
    "        break\n",
    "    else:\n",
    "        a+=1\n",
    "print(\"POSITION IS :-\",a) "
   ]
  },
  {
   "cell_type": "code",
   "execution_count": 8,
   "id": "6b0ba3bd",
   "metadata": {},
   "outputs": [
    {
     "name": "stdout",
     "output_type": "stream",
     "text": [
      "(1, 2, 3, 4)\n",
      "1428437538192\n",
      "(1, 2, 3, 4, 2)\n",
      "1428438409760\n",
      "(1, 2, 14, 10, 20, 1, 2, 3, 4, 2)\n",
      "1428438423104\n"
     ]
    }
   ],
   "source": [
    "t=(1,2,3,4)\n",
    "print(t)\n",
    "print(id(t))\n",
    "\n",
    "t=t+(2,)\n",
    "print(t)\n",
    "print(id(t))\n",
    "\n",
    "t=t[:2]+(14,10,20)+t[:]\n",
    "print(t)\n",
    "print(id(t))"
   ]
  },
  {
   "cell_type": "code",
   "execution_count": 9,
   "id": "58ba120c",
   "metadata": {},
   "outputs": [
    {
     "name": "stdout",
     "output_type": "stream",
     "text": [
      "1428363897456\n"
     ]
    }
   ],
   "source": [
    "a=11\n",
    "print(id(a))"
   ]
  },
  {
   "cell_type": "code",
   "execution_count": 10,
   "id": "eb8ba3e6",
   "metadata": {},
   "outputs": [
    {
     "name": "stdout",
     "output_type": "stream",
     "text": [
      "1428363897456\n"
     ]
    }
   ],
   "source": [
    "b=a\n",
    "print(id(b))"
   ]
  }
 ],
 "metadata": {
  "kernelspec": {
   "display_name": "Python 3 (ipykernel)",
   "language": "python",
   "name": "python3"
  },
  "language_info": {
   "codemirror_mode": {
    "name": "ipython",
    "version": 3
   },
   "file_extension": ".py",
   "mimetype": "text/x-python",
   "name": "python",
   "nbconvert_exporter": "python",
   "pygments_lexer": "ipython3",
   "version": "3.9.0"
  }
 },
 "nbformat": 4,
 "nbformat_minor": 5
}
